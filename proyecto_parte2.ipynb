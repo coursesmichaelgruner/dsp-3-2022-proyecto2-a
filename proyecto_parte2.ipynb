{
 "cells": [
  {
   "cell_type": "markdown",
   "metadata": {},
   "source": [
    "# Proyecto 4. Parte 2\n",
    "## Pamela Salazar"
   ]
  },
  {
   "cell_type": "markdown",
   "metadata": {},
   "source": [
    "10. Entrene la red construida utilizando su conjunto de entrenamiento"
   ]
  },
  {
   "cell_type": "code",
   "execution_count": 1,
   "metadata": {},
   "outputs": [],
   "source": [
    "import pandas as pd\n",
    "import numpy as np\n",
    "import random\n",
    "import pickle\n",
    "from tensorflow.keras import datasets, layers, models\n",
    "from keras.models import Sequential\n",
    "from keras.layers import Dense, Dropout, Activation, Flatten\n",
    "from keras.layers import Convolution2D, Conv2D, MaxPool2D, GlobalAveragePooling2D\n",
    "from keras.optimizers import Adam\n",
    "from keras.utils import np_utils\n",
    "from keras.metrics import metrics \n",
    "from keras.losses import CategoricalCrossentropy\n",
    "from sklearn import model_selection \n"
   ]
  },
  {
   "cell_type": "code",
   "execution_count": 2,
   "metadata": {},
   "outputs": [],
   "source": [
    "df1_train = pd.read_csv('train.csv')\n",
    "df1_test = pd.read_csv('test.csv')\n"
   ]
  },
  {
   "cell_type": "code",
   "execution_count": 3,
   "metadata": {},
   "outputs": [],
   "source": [
    "def writeSpectogram (specfile):\n",
    "    with open(specfile, \"rb\") as f:\n",
    "        S_dB = pickle.load(f)\n",
    "    S_dB=S_dB.astype(np.float32)\n",
    "    return S_dB"
   ]
  },
  {
   "cell_type": "code",
   "execution_count": 4,
   "metadata": {},
   "outputs": [],
   "source": [
    "D_train=[]\n",
    "for i in range(len(df1_train['Clase'])):\n",
    "    classID = df1_train['Clase ID'][i] \n",
    "    path_spect = 'espectogramas' + '/' + df1_train['Path de espectograma'][i]\n",
    "    spec = writeSpectogram(path_spect)\n",
    "    spec =spec .astype(np.float32)\n",
    "   \n",
    "    D_train.append((spec,classID))\n",
    "\n",
    "D_test=[]\n",
    "for i in range(len(df1_test['Clase'])):\n",
    "    classID = df1_test['Clase ID'][i] \n",
    "    path_spect = 'espectogramas' + '/' + df1_test['Path de espectograma'][i]\n",
    "    spec = writeSpectogram(path_spect)\n",
    "    spec =spec .astype(np.float32)\n",
    "   \n",
    "    D_test.append((spec,classID))\n",
    "\n",
    "\n",
    "dataset_train=D_train\n",
    "dataset_test=D_test\n",
    "random.shuffle(dataset_train)\n",
    "random.shuffle(dataset_test)\n",
    "train=dataset_train\n",
    "test=dataset_test\n",
    "X_train, y_train = zip(*train)\n",
    "X_test, y_test = zip(*test)\n",
    "X_train = np.array([x.reshape( (40, 101, 1) ) for x in X_train])\n",
    "X_test = np.array([x.reshape( (40, 101, 1) ) for x in X_test])\n",
    "# Normalización\n",
    "mean = np.mean(X_train, axis=0)\n",
    "std = np.std(X_train, axis=0)\n",
    "X_train = (X_train - mean)/std\n",
    "mean = np.mean(X_test, axis=0)\n",
    "std = np.std(X_test, axis=0)\n",
    "X_test = (X_test - mean)/std\n",
    "y_train = np.array(np_utils.to_categorical(y_train, 12))\n",
    "y_test = np.array(np_utils.to_categorical(y_test, 12))\n"
   ]
  },
  {
   "cell_type": "code",
   "execution_count": 5,
   "metadata": {},
   "outputs": [
    {
     "name": "stdout",
     "output_type": "stream",
     "text": [
      "Model: \"sequential\"\n",
      "_________________________________________________________________\n",
      " Layer (type)                Output Shape              Param #   \n",
      "=================================================================\n",
      " conv2d (Conv2D)             (None, 40, 101, 12)       120       \n",
      "                                                                 \n",
      " batch_normalization (BatchN  (None, 40, 101, 12)      48        \n",
      " ormalization)                                                   \n",
      "                                                                 \n",
      " activation (Activation)     (None, 40, 101, 12)       0         \n",
      "                                                                 \n",
      " max_pooling2d (MaxPooling2D  (None, 20, 51, 12)       0         \n",
      " )                                                               \n",
      "                                                                 \n",
      " conv2d_1 (Conv2D)           (None, 20, 51, 24)        2616      \n",
      "                                                                 \n",
      " batch_normalization_1 (Batc  (None, 20, 51, 24)       96        \n",
      " hNormalization)                                                 \n",
      "                                                                 \n",
      " activation_1 (Activation)   (None, 20, 51, 24)        0         \n",
      "                                                                 \n",
      " max_pooling2d_1 (MaxPooling  (None, 10, 26, 24)       0         \n",
      " 2D)                                                             \n",
      "                                                                 \n",
      " conv2d_2 (Conv2D)           (None, 10, 26, 48)        10416     \n",
      "                                                                 \n",
      " batch_normalization_2 (Batc  (None, 10, 26, 48)       192       \n",
      " hNormalization)                                                 \n",
      "                                                                 \n",
      " activation_2 (Activation)   (None, 10, 26, 48)        0         \n",
      "                                                                 \n",
      " max_pooling2d_2 (MaxPooling  (None, 5, 13, 48)        0         \n",
      " 2D)                                                             \n",
      "                                                                 \n",
      " conv2d_3 (Conv2D)           (None, 5, 13, 48)         20784     \n",
      "                                                                 \n",
      " batch_normalization_3 (Batc  (None, 5, 13, 48)        192       \n",
      " hNormalization)                                                 \n",
      "                                                                 \n",
      " activation_3 (Activation)   (None, 5, 13, 48)         0         \n",
      "                                                                 \n",
      " conv2d_4 (Conv2D)           (None, 5, 13, 48)         20784     \n",
      "                                                                 \n",
      " batch_normalization_4 (Batc  (None, 5, 13, 48)        192       \n",
      " hNormalization)                                                 \n",
      "                                                                 \n",
      " activation_4 (Activation)   (None, 5, 13, 48)         0         \n",
      "                                                                 \n",
      " max_pooling2d_3 (MaxPooling  (None, 5, 13, 48)        0         \n",
      " 2D)                                                             \n",
      "                                                                 \n",
      " dropout (Dropout)           (None, 5, 13, 48)         0         \n",
      "                                                                 \n",
      " flatten (Flatten)           (None, 3120)              0         \n",
      "                                                                 \n",
      " dense (Dense)               (None, 12)                37452     \n",
      "                                                                 \n",
      "=================================================================\n",
      "Total params: 92,892\n",
      "Trainable params: 92,532\n",
      "Non-trainable params: 360\n",
      "_________________________________________________________________\n"
     ]
    }
   ],
   "source": [
    "# Construct model \n",
    "model = models.Sequential()\n",
    "# model2 = models.Sequential()\n",
    "\n",
    "# model\n",
    "model.add(layers.Conv2D( input_shape=(40, 101, 1),filters=12, kernel_size=(3, 3), padding='same'))\n",
    "model.add(layers.BatchNormalization())\n",
    "model.add(layers.Activation(activation='relu'))\n",
    "model.add(layers.MaxPooling2D(pool_size=(3, 3), strides=(2, 2), padding='same'))\n",
    "model.add(layers.Conv2D(filters=24, kernel_size=(3, 3), padding='same'))\n",
    "model.add(layers.BatchNormalization())\n",
    "model.add(layers.Activation(activation='relu'))\n",
    "model.add(layers.MaxPooling2D(pool_size=(3, 3), strides=(2, 2), padding='same'))\n",
    "model.add(layers.Conv2D(filters=48, kernel_size=(3, 3), padding='same'))\n",
    "model.add(layers.BatchNormalization())\n",
    "model.add(layers.Activation(activation='relu'))\n",
    "model.add(layers.MaxPooling2D(pool_size=(3, 3),strides=(2, 2), padding='same'))\n",
    "model.add(layers.Conv2D(filters=48, kernel_size=(3, 3), padding='same'))\n",
    "model.add(layers.BatchNormalization())\n",
    "model.add(layers.Activation(activation='relu'))\n",
    "model.add(layers.Conv2D(filters=48, kernel_size=(3, 3), padding='same'))\n",
    "model.add(layers.BatchNormalization())\n",
    "model.add(layers.Activation(activation='relu'))\n",
    "model.add(layers.MaxPooling2D(pool_size=(1, 13), strides=(1, 1), padding='same'))\n",
    "model.add(layers.Dropout(0.2))\n",
    "model.add(layers.Flatten())\n",
    "model.add(layers.Dense(12, activation='softmax'))\n",
    "\n",
    "\n",
    "model.summary()\n",
    "\n"
   ]
  },
  {
   "cell_type": "markdown",
   "metadata": {},
   "source": [
    "Compile and train the model"
   ]
  },
  {
   "cell_type": "code",
   "execution_count": 6,
   "metadata": {},
   "outputs": [],
   "source": [
    "# model 1\n",
    "model.compile(optimizer=Adam(learning_rate=3e-4),\n",
    "              loss=CategoricalCrossentropy(),\n",
    "              metrics=[metrics.CategoricalAccuracy(),\n",
    "                       metrics.FalseNegatives()])"
   ]
  },
  {
   "cell_type": "code",
   "execution_count": 7,
   "metadata": {},
   "outputs": [
    {
     "name": "stdout",
     "output_type": "stream",
     "text": [
      "Epoch 1/25\n",
      "183/183 [==============================] - 92s 480ms/step - loss: 1.5378 - categorical_accuracy: 0.5059 - false_negatives: 14628.0000\n",
      "Epoch 2/25\n",
      "183/183 [==============================] - 78s 424ms/step - loss: 0.5648 - categorical_accuracy: 0.8157 - false_negatives: 5268.0000\n",
      "Epoch 3/25\n",
      "183/183 [==============================] - 77s 420ms/step - loss: 0.3737 - categorical_accuracy: 0.8825 - false_negatives: 3303.0000\n",
      "Epoch 4/25\n",
      "183/183 [==============================] - 79s 433ms/step - loss: 0.2883 - categorical_accuracy: 0.9065 - false_negatives: 2523.0000\n",
      "Epoch 5/25\n",
      "183/183 [==============================] - 84s 459ms/step - loss: 0.2462 - categorical_accuracy: 0.9236 - false_negatives: 2086.0000\n",
      "Epoch 6/25\n",
      "183/183 [==============================] - 78s 424ms/step - loss: 0.2074 - categorical_accuracy: 0.9360 - false_negatives: 1756.0000\n",
      "Epoch 7/25\n",
      "183/183 [==============================] - 79s 429ms/step - loss: 0.1693 - categorical_accuracy: 0.9465 - false_negatives: 1487.0000\n",
      "Epoch 8/25\n",
      "183/183 [==============================] - 78s 426ms/step - loss: 0.1562 - categorical_accuracy: 0.9499 - false_negatives: 1344.0000\n",
      "Epoch 9/25\n",
      "183/183 [==============================] - 78s 428ms/step - loss: 0.1406 - categorical_accuracy: 0.9553 - false_negatives: 1233.0000\n",
      "Epoch 10/25\n",
      "183/183 [==============================] - 74s 404ms/step - loss: 0.1220 - categorical_accuracy: 0.9607 - false_negatives: 1092.0000\n",
      "Epoch 11/25\n",
      "183/183 [==============================] - 78s 426ms/step - loss: 0.1122 - categorical_accuracy: 0.9634 - false_negatives: 1012.0000\n",
      "Epoch 12/25\n",
      "183/183 [==============================] - 81s 441ms/step - loss: 0.0959 - categorical_accuracy: 0.9696 - false_negatives: 861.0000\n",
      "Epoch 13/25\n",
      "183/183 [==============================] - 76s 414ms/step - loss: 0.0862 - categorical_accuracy: 0.9723 - false_negatives: 789.0000\n",
      "Epoch 14/25\n",
      "183/183 [==============================] - 76s 413ms/step - loss: 0.0781 - categorical_accuracy: 0.9744 - false_negatives: 736.0000\n",
      "Epoch 15/25\n",
      "183/183 [==============================] - 94s 515ms/step - loss: 0.0720 - categorical_accuracy: 0.9777 - false_negatives: 673.0000\n",
      "Epoch 16/25\n",
      "183/183 [==============================] - 99s 540ms/step - loss: 0.0693 - categorical_accuracy: 0.9770 - false_negatives: 644.0000\n",
      "Epoch 17/25\n",
      "183/183 [==============================] - 94s 513ms/step - loss: 0.0580 - categorical_accuracy: 0.9819 - false_negatives: 539.0000\n",
      "Epoch 18/25\n",
      "183/183 [==============================] - 80s 438ms/step - loss: 0.0580 - categorical_accuracy: 0.9813 - false_negatives: 519.0000\n",
      "Epoch 19/25\n",
      "183/183 [==============================] - 92s 504ms/step - loss: 0.0516 - categorical_accuracy: 0.9839 - false_negatives: 481.0000\n",
      "Epoch 20/25\n",
      "183/183 [==============================] - 140s 766ms/step - loss: 0.0529 - categorical_accuracy: 0.9834 - false_negatives: 480.0000\n",
      "Epoch 21/25\n",
      "183/183 [==============================] - 81s 441ms/step - loss: 0.0456 - categorical_accuracy: 0.9852 - false_negatives: 443.0000\n",
      "Epoch 22/25\n",
      "183/183 [==============================] - 83s 455ms/step - loss: 0.0393 - categorical_accuracy: 0.9867 - false_negatives: 387.0000\n",
      "Epoch 23/25\n",
      "183/183 [==============================] - 82s 448ms/step - loss: 0.0325 - categorical_accuracy: 0.9892 - false_negatives: 299.0000\n",
      "Epoch 24/25\n",
      "183/183 [==============================] - 87s 477ms/step - loss: 0.0330 - categorical_accuracy: 0.9892 - false_negatives: 322.0000\n",
      "Epoch 25/25\n",
      "183/183 [==============================] - 81s 443ms/step - loss: 0.0293 - categorical_accuracy: 0.9906 - false_negatives: 281.0000\n"
     ]
    },
    {
     "data": {
      "text/plain": [
       "<keras.callbacks.History at 0x27b8151e670>"
      ]
     },
     "execution_count": 7,
     "metadata": {},
     "output_type": "execute_result"
    }
   ],
   "source": [
    "model.fit(X_train, y_train, epochs=25,batch_size=128)"
   ]
  },
  {
   "cell_type": "code",
   "execution_count": 8,
   "metadata": {},
   "outputs": [],
   "source": [
    "model.save('model.h5')"
   ]
  },
  {
   "cell_type": "code",
   "execution_count": 9,
   "metadata": {},
   "outputs": [],
   "source": [
    "import matplotlib.pyplot as plt"
   ]
  },
  {
   "cell_type": "code",
   "execution_count": 10,
   "metadata": {},
   "outputs": [
    {
     "name": "stderr",
     "output_type": "stream",
     "text": [
      "No handles with labels found to put in legend.\n"
     ]
    },
    {
     "data": {
      "text/plain": [
       "<matplotlib.legend.Legend at 0x27bdf7c5700>"
      ]
     },
     "execution_count": 10,
     "metadata": {},
     "output_type": "execute_result"
    },
    {
     "data": {
      "image/png": "[encoded data removed]",
      "text/plain": [
       "<Figure size 432x288 with 1 Axes>"
      ]
     },
     "metadata": {
      "needs_background": "light"
     },
     "output_type": "display_data"
    }
   ],
   "source": [
    "plt.plot(model.history.history['categorical_accuracy'])\n",
    "plt.xlabel('Epoch')\n",
    "plt.ylabel('Accuracy')\n",
    "plt.legend(loc='lower right')"
   ]
  },
  {
   "cell_type": "code",
   "execution_count": 11,
   "metadata": {},
   "outputs": [
    {
     "name": "stderr",
     "output_type": "stream",
     "text": [
      "No handles with labels found to put in legend.\n"
     ]
    },
    {
     "data": {
      "text/plain": [
       "<matplotlib.legend.Legend at 0x27b999dd5b0>"
      ]
     },
     "execution_count": 11,
     "metadata": {},
     "output_type": "execute_result"
    },
    {
     "data": {
      "image/png": "[encoded data removed]",
      "text/plain": [
       "<Figure size 432x288 with 1 Axes>"
      ]
     },
     "metadata": {
      "needs_background": "light"
     },
     "output_type": "display_data"
    }
   ],
   "source": [
    "plt.plot(model.history.history['loss'], )\n",
    "plt.xlabel('Epoch')\n",
    "plt.ylabel('Loss')\n",
    "plt.legend(loc='lower right')"
   ]
  },
  {
   "cell_type": "markdown",
   "metadata": {},
   "source": [
    "11. Evalue la red tanto en el conjunto de entrenamiento como en el de validacion"
   ]
  },
  {
   "cell_type": "code",
   "execution_count": 12,
   "metadata": {},
   "outputs": [
    {
     "name": "stdout",
     "output_type": "stream",
     "text": [
      "183/183 [==============================] - 22s 116ms/step\n"
     ]
    }
   ],
   "source": [
    "predictions = model.predict(X_train,batch_size=128)\n",
    "decoded_y_train = y_train.argmax(axis=1)\n",
    "decoded_predictions = predictions.argmax(axis=1)"
   ]
  },
  {
   "cell_type": "code",
   "execution_count": 13,
   "metadata": {},
   "outputs": [],
   "source": [
    "from sklearn import metrics"
   ]
  },
  {
   "cell_type": "code",
   "execution_count": 14,
   "metadata": {},
   "outputs": [
    {
     "name": "stdout",
     "output_type": "stream",
     "text": [
      "              precision    recall  f1-score   support\n",
      "\n",
      "           0       1.00      1.00      1.00      2116\n",
      "           1       1.00      0.97      0.98      2105\n",
      "           2       0.99      1.00      0.99      2115\n",
      "           3       1.00      0.98      0.99      2095\n",
      "           4       0.96      1.00      0.98      2106\n",
      "           5       1.00      0.97      0.99      2111\n",
      "           6       1.00      0.95      0.97      2110\n",
      "           7       0.95      1.00      0.97      2101\n",
      "           8       1.00      1.00      1.00      2134\n",
      "           9       0.97      1.00      0.98      2112\n",
      "          10       0.99      1.00      0.99       205\n",
      "          11       0.99      1.00      1.00      2000\n",
      "\n",
      "    accuracy                           0.99     23310\n",
      "   macro avg       0.99      0.99      0.99     23310\n",
      "weighted avg       0.99      0.99      0.99     23310\n",
      "\n"
     ]
    }
   ],
   "source": [
    "print(metrics.classification_report(decoded_y_train,decoded_predictions))"
   ]
  },
  {
   "cell_type": "code",
   "execution_count": 15,
   "metadata": {},
   "outputs": [],
   "source": [
    "matrix = metrics.confusion_matrix(decoded_y_train,decoded_predictions)\n",
    "cm_dispaly = metrics.ConfusionMatrixDisplay(matrix)"
   ]
  },
  {
   "cell_type": "code",
   "execution_count": 16,
   "metadata": {},
   "outputs": [
    {
     "data": {
      "image/png": "[encoded data removed]",
      "text/plain": [
       "<Figure size 432x288 with 2 Axes>"
      ]
     },
     "metadata": {
      "needs_background": "light"
     },
     "output_type": "display_data"
    }
   ],
   "source": [
    "cm_dispaly.plot()\n",
    "plt.show()"
   ]
  },
  {
   "cell_type": "code",
   "execution_count": 17,
   "metadata": {},
   "outputs": [
    {
     "name": "stdout",
     "output_type": "stream",
     "text": [
      "30/30 [==============================] - 3s 103ms/step\n"
     ]
    }
   ],
   "source": [
    "predictions = model.predict(X_test,batch_size=128)\n",
    "decoded_y_test = y_test.argmax(axis=1)\n",
    "decoded_predictions = predictions.argmax(axis=1)"
   ]
  },
  {
   "cell_type": "code",
   "execution_count": 18,
   "metadata": {},
   "outputs": [
    {
     "name": "stdout",
     "output_type": "stream",
     "text": [
      "              precision    recall  f1-score   support\n",
      "\n",
      "           0       0.86      0.97      0.91       261\n",
      "           1       0.96      0.86      0.91       270\n",
      "           2       0.66      0.91      0.77       260\n",
      "           3       0.76      0.87      0.81       264\n",
      "           4       0.63      0.98      0.77       247\n",
      "           5       0.84      0.90      0.87       256\n",
      "           6       0.89      0.87      0.88       257\n",
      "           7       0.64      0.97      0.77       256\n",
      "           8       0.66      0.94      0.78       246\n",
      "           9       0.66      0.92      0.77       260\n",
      "          10       0.85      0.06      0.10       199\n",
      "          11       0.96      0.54      0.69      1000\n",
      "\n",
      "    accuracy                           0.77      3776\n",
      "   macro avg       0.78      0.82      0.75      3776\n",
      "weighted avg       0.82      0.77      0.75      3776\n",
      "\n"
     ]
    }
   ],
   "source": [
    "print(metrics.classification_report(decoded_y_test,decoded_predictions))"
   ]
  },
  {
   "cell_type": "code",
   "execution_count": 19,
   "metadata": {},
   "outputs": [
    {
     "data": {
      "image/png": "[encoded data removed]",
      "text/plain": [
       "<Figure size 432x288 with 2 Axes>"
      ]
     },
     "metadata": {
      "needs_background": "light"
     },
     "output_type": "display_data"
    }
   ],
   "source": [
    "matrix = metrics.confusion_matrix(decoded_y_test,decoded_predictions)\n",
    "cm_dispaly = metrics.ConfusionMatrixDisplay(matrix)\n",
    "cm_dispaly.plot()\n",
    "plt.show()"
   ]
  }
 ],
 "metadata": {
  "kernelspec": {
   "display_name": "Python 3.9.1 ('base')",
   "language": "python",
   "name": "python3"
  },
  "language_info": {
   "codemirror_mode": {
    "name": "ipython",
    "version": 3
   },
   "file_extension": ".py",
   "mimetype": "text/x-python",
   "name": "python",
   "nbconvert_exporter": "python",
   "pygments_lexer": "ipython3",
   "version": "3.9.1"
  },
  "orig_nbformat": 4,
  "vscode": {
   "interpreter": {
    "hash": "4e1c2798ee1b7b7a11e5efe976dd2a4013c9c70ae7e11798478a655b3b9d537b"
   }
  }
 },
 "nbformat": 4,
 "nbformat_minor": 2
}
