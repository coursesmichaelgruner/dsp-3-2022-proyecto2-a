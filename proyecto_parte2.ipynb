{
 "cells": [
  {
   "cell_type": "markdown",
   "metadata": {},
   "source": [
    "# Proyecto 4. Parte 2\n",
    "## Pamela Salazar"
   ]
  },
  {
   "cell_type": "markdown",
   "metadata": {},
   "source": [
    "10. Entrene la red construida utilizando su conjunto de entrenamiento"
   ]
  },
  {
   "cell_type": "code",
   "execution_count": 392,
   "metadata": {},
   "outputs": [],
   "source": [
    "import pandas as pd\n",
    "import numpy as np\n",
    "import random\n",
    "import pickle\n",
    "from tensorflow.keras import datasets, layers, models\n",
    "from keras.models import Sequential\n",
    "from keras.layers import Dense, Dropout, Activation, Flatten\n",
    "from keras.layers import Convolution2D, Conv2D, MaxPool2D, GlobalAveragePooling2D\n",
    "from keras.optimizers import Adam\n",
    "from keras.utils import np_utils\n",
    "from keras.metrics import metrics \n",
    "from keras.losses import CategoricalCrossentropy\n",
    "from sklearn import model_selection \n"
   ]
  },
  {
   "cell_type": "code",
   "execution_count": 393,
   "metadata": {},
   "outputs": [],
   "source": [
    "df1_train = pd.read_csv('train.csv')\n",
    "df1_test = pd.read_csv('test.csv')\n"
   ]
  },
  {
   "cell_type": "code",
   "execution_count": 394,
   "metadata": {},
   "outputs": [],
   "source": [
    "def writeSpectogram (specfile):\n",
    "    with open(specfile, \"rb\") as f:\n",
    "        S_dB = pickle.load(f)\n",
    "    S_dB=S_dB.astype(np.float32)\n",
    "    return S_dB"
   ]
  },
  {
   "cell_type": "code",
   "execution_count": 399,
   "metadata": {},
   "outputs": [],
   "source": [
    "D_train=[]\n",
    "for i in range(len(df1_train['Clase'])):\n",
    "    classID = df1_train['Clase ID'][i] \n",
    "    path_spect = 'espectogramas' + '/' + df1_train['Path de espectograma'][i]\n",
    "    spec = writeSpectogram(path_spect)\n",
    "    spec =spec .astype(np.float32)\n",
    "    # Si no tienen tamaño uniforme no se incluye en la variable D\n",
    "    #if spec.shape != (128,128):\n",
    "    #    continue\n",
    "    D_train.append((spec,classID))\n",
    "\n",
    "dataset_train=D_train\n",
    "#dataset_valid=D_valid\n",
    "#dataset_test=D_test\n",
    "random.shuffle(dataset_train)\n",
    "#random.shuffle(dataset_valid)\n",
    "#random.shuffle(dataset_test)\n",
    "train=dataset_train\n",
    "#valid=dataset_valid\n",
    "#test=dataset_test\n",
    "X_train, y_train = zip(*train)\n",
    "#X_valid, y_valid = zip(*valid)\n",
    "#X_test, y_test = zip(*test)\n",
    "X_train = np.array([x.reshape( (40, 101, 1) ) for x in X_train])\n",
    "#X_valid = np.array([x.reshape( (128, 128, 1) ) for x in X_valid])\n",
    "#X_test = np.array([x.reshape( (128, 128, 1) ) for x in X_test])\n",
    "# Normalización\n",
    "mean = np.mean(X_train, axis=0)\n",
    "std = np.std(X_train, axis=0)\n",
    "X_train = (X_train - mean)/std\n",
    "#X_valid = (X_valid - mean)/std\n",
    "#X_test = (X_test - mean)/std\n",
    "y_train = np.array(np_utils.to_categorical(y_train, 12))\n",
    "#y_valid = np.array(keras.utils.to_categorical(y_valid, 7))\n",
    "#y_test = np.array(keras.utils.to_categorical(y_test, 7))\n"
   ]
  },
  {
   "cell_type": "code",
   "execution_count": 400,
   "metadata": {},
   "outputs": [
    {
     "name": "stdout",
     "output_type": "stream",
     "text": [
      "Model: \"sequential_6\"\n",
      "_________________________________________________________________\n",
      " Layer (type)                Output Shape              Param #   \n",
      "=================================================================\n",
      " conv2d_30 (Conv2D)          (None, 40, 101, 12)       120       \n",
      "                                                                 \n",
      " batch_normalization_30 (Bat  (None, 40, 101, 12)      48        \n",
      " chNormalization)                                                \n",
      "                                                                 \n",
      " activation_30 (Activation)  (None, 40, 101, 12)       0         \n",
      "                                                                 \n",
      " max_pooling2d_24 (MaxPoolin  (None, 20, 51, 12)       0         \n",
      " g2D)                                                            \n",
      "                                                                 \n",
      " conv2d_31 (Conv2D)          (None, 20, 51, 24)        2616      \n",
      "                                                                 \n",
      " batch_normalization_31 (Bat  (None, 20, 51, 24)       96        \n",
      " chNormalization)                                                \n",
      "                                                                 \n",
      " activation_31 (Activation)  (None, 20, 51, 24)        0         \n",
      "                                                                 \n",
      " max_pooling2d_25 (MaxPoolin  (None, 10, 26, 24)       0         \n",
      " g2D)                                                            \n",
      "                                                                 \n",
      " conv2d_32 (Conv2D)          (None, 10, 26, 48)        10416     \n",
      "                                                                 \n",
      " batch_normalization_32 (Bat  (None, 10, 26, 48)       192       \n",
      " chNormalization)                                                \n",
      "                                                                 \n",
      " activation_32 (Activation)  (None, 10, 26, 48)        0         \n",
      "                                                                 \n",
      " max_pooling2d_26 (MaxPoolin  (None, 5, 13, 48)        0         \n",
      " g2D)                                                            \n",
      "                                                                 \n",
      " conv2d_33 (Conv2D)          (None, 5, 13, 48)         20784     \n",
      "                                                                 \n",
      " batch_normalization_33 (Bat  (None, 5, 13, 48)        192       \n",
      " chNormalization)                                                \n",
      "                                                                 \n",
      " activation_33 (Activation)  (None, 5, 13, 48)         0         \n",
      "                                                                 \n",
      " conv2d_34 (Conv2D)          (None, 5, 13, 48)         20784     \n",
      "                                                                 \n",
      " batch_normalization_34 (Bat  (None, 5, 13, 48)        192       \n",
      " chNormalization)                                                \n",
      "                                                                 \n",
      " activation_34 (Activation)  (None, 5, 13, 48)         0         \n",
      "                                                                 \n",
      " max_pooling2d_27 (MaxPoolin  (None, 5, 13, 48)        0         \n",
      " g2D)                                                            \n",
      "                                                                 \n",
      " dropout_6 (Dropout)         (None, 5, 13, 48)         0         \n",
      "                                                                 \n",
      " flatten_6 (Flatten)         (None, 3120)              0         \n",
      "                                                                 \n",
      " dense_6 (Dense)             (None, 12)                37452     \n",
      "                                                                 \n",
      "=================================================================\n",
      "Total params: 92,892\n",
      "Trainable params: 92,532\n",
      "Non-trainable params: 360\n",
      "_________________________________________________________________\n"
     ]
    }
   ],
   "source": [
    "# Construct model \n",
    "model = models.Sequential()\n",
    "# model2 = models.Sequential()\n",
    "\n",
    "# model\n",
    "model.add(layers.Conv2D( input_shape=(40, 101, 1),filters=12, kernel_size=(3, 3), padding='same'))\n",
    "model.add(layers.BatchNormalization())\n",
    "model.add(layers.Activation(activation='relu'))\n",
    "model.add(layers.MaxPooling2D(pool_size=(3, 3), strides=(2, 2), padding='same'))\n",
    "model.add(layers.Conv2D(filters=24, kernel_size=(3, 3), padding='same'))\n",
    "model.add(layers.BatchNormalization())\n",
    "model.add(layers.Activation(activation='relu'))\n",
    "model.add(layers.MaxPooling2D(pool_size=(3, 3), strides=(2, 2), padding='same'))\n",
    "model.add(layers.Conv2D(filters=48, kernel_size=(3, 3), padding='same'))\n",
    "model.add(layers.BatchNormalization())\n",
    "model.add(layers.Activation(activation='relu'))\n",
    "model.add(layers.MaxPooling2D(pool_size=(3, 3),strides=(2, 2), padding='same'))\n",
    "model.add(layers.Conv2D(filters=48, kernel_size=(3, 3), padding='same'))\n",
    "model.add(layers.BatchNormalization())\n",
    "model.add(layers.Activation(activation='relu'))\n",
    "model.add(layers.Conv2D(filters=48, kernel_size=(3, 3), padding='same'))\n",
    "model.add(layers.BatchNormalization())\n",
    "model.add(layers.Activation(activation='relu'))\n",
    "model.add(layers.MaxPooling2D(pool_size=(1, 13), strides=(1, 1), padding='same'))\n",
    "model.add(layers.Dropout(0.2))\n",
    "model.add(layers.Flatten())\n",
    "model.add(layers.Dense(12, activation='softmax'))\n",
    "\n",
    "\n",
    "model.summary()\n",
    "\n"
   ]
  },
  {
   "cell_type": "markdown",
   "metadata": {},
   "source": [
    "Compile and train the model"
   ]
  },
  {
   "cell_type": "code",
   "execution_count": 401,
   "metadata": {},
   "outputs": [],
   "source": [
    "# model 1\n",
    "model.compile(optimizer=Adam(learning_rate=3e-4),\n",
    "              loss=CategoricalCrossentropy(),\n",
    "              metrics=[metrics.CategoricalAccuracy(),\n",
    "                       metrics.FalseNegatives()])"
   ]
  },
  {
   "cell_type": "code",
   "execution_count": 403,
   "metadata": {},
   "outputs": [
    {
     "name": "stdout",
     "output_type": "stream",
     "text": [
      "Epoch 1/25\n",
      "183/183 [==============================] - 25s 129ms/step - loss: 1.4557 - categorical_accuracy: 0.5301 - false_negatives_6: 13880.0000\n",
      "Epoch 2/25\n",
      "183/183 [==============================] - 33s 181ms/step - loss: 0.5457 - categorical_accuracy: 0.8253 - false_negatives_6: 5061.0000\n",
      "Epoch 3/25\n",
      "183/183 [==============================] - 36s 195ms/step - loss: 0.3593 - categorical_accuracy: 0.8852 - false_negatives_6: 3190.0000\n",
      "Epoch 4/25\n",
      "183/183 [==============================] - 35s 190ms/step - loss: 0.2826 - categorical_accuracy: 0.9114 - false_negatives_6: 2421.0000\n",
      "Epoch 5/25\n",
      "183/183 [==============================] - 35s 190ms/step - loss: 0.2313 - categorical_accuracy: 0.9287 - false_negatives_6: 1955.0000\n",
      "Epoch 6/25\n",
      "183/183 [==============================] - 37s 200ms/step - loss: 0.1973 - categorical_accuracy: 0.9370 - false_negatives_6: 1689.0000\n",
      "Epoch 7/25\n",
      "183/183 [==============================] - 39s 211ms/step - loss: 0.1696 - categorical_accuracy: 0.9473 - false_negatives_6: 1436.0000\n",
      "Epoch 8/25\n",
      "183/183 [==============================] - 37s 203ms/step - loss: 0.1464 - categorical_accuracy: 0.9530 - false_negatives_6: 1254.0000\n",
      "Epoch 9/25\n",
      "183/183 [==============================] - 37s 205ms/step - loss: 0.1290 - categorical_accuracy: 0.9595 - false_negatives_6: 1107.0000\n",
      "Epoch 10/25\n",
      "183/183 [==============================] - 35s 189ms/step - loss: 0.1195 - categorical_accuracy: 0.9615 - false_negatives_6: 1030.0000\n",
      "Epoch 11/25\n",
      "183/183 [==============================] - 36s 195ms/step - loss: 0.1094 - categorical_accuracy: 0.9644 - false_negatives_6: 960.0000\n",
      "Epoch 12/25\n",
      "183/183 [==============================] - 36s 197ms/step - loss: 0.0937 - categorical_accuracy: 0.9701 - false_negatives_6: 827.0000\n",
      "Epoch 13/25\n",
      "183/183 [==============================] - 34s 186ms/step - loss: 0.0876 - categorical_accuracy: 0.9718 - false_negatives_6: 789.0000\n",
      "Epoch 14/25\n",
      "183/183 [==============================] - 34s 183ms/step - loss: 0.0727 - categorical_accuracy: 0.9755 - false_negatives_6: 687.0000\n",
      "Epoch 15/25\n",
      "183/183 [==============================] - 36s 197ms/step - loss: 0.0714 - categorical_accuracy: 0.9763 - false_negatives_6: 657.0000\n",
      "Epoch 16/25\n",
      "183/183 [==============================] - 35s 191ms/step - loss: 0.0692 - categorical_accuracy: 0.9766 - false_negatives_6: 658.0000\n",
      "Epoch 17/25\n",
      "183/183 [==============================] - 35s 192ms/step - loss: 0.0592 - categorical_accuracy: 0.9812 - false_negatives_6: 553.0000\n",
      "Epoch 18/25\n",
      "183/183 [==============================] - 34s 188ms/step - loss: 0.0514 - categorical_accuracy: 0.9836 - false_negatives_6: 475.0000\n",
      "Epoch 19/25\n",
      "183/183 [==============================] - 39s 214ms/step - loss: 0.0508 - categorical_accuracy: 0.9836 - false_negatives_6: 469.0000\n",
      "Epoch 20/25\n",
      "183/183 [==============================] - 37s 203ms/step - loss: 0.0442 - categorical_accuracy: 0.9855 - false_negatives_6: 418.0000\n",
      "Epoch 21/25\n",
      "183/183 [==============================] - 35s 190ms/step - loss: 0.0381 - categorical_accuracy: 0.9882 - false_negatives_6: 337.0000\n",
      "Epoch 22/25\n",
      "183/183 [==============================] - 34s 186ms/step - loss: 0.0320 - categorical_accuracy: 0.9907 - false_negatives_6: 297.0000\n",
      "Epoch 23/25\n",
      "183/183 [==============================] - 35s 189ms/step - loss: 0.0317 - categorical_accuracy: 0.9904 - false_negatives_6: 286.0000\n",
      "Epoch 24/25\n",
      "183/183 [==============================] - 34s 184ms/step - loss: 0.0578 - categorical_accuracy: 0.9813 - false_negatives_6: 511.0000\n",
      "Epoch 25/25\n",
      "183/183 [==============================] - 35s 191ms/step - loss: 0.0300 - categorical_accuracy: 0.9905 - false_negatives_6: 283.0000\n"
     ]
    },
    {
     "data": {
      "text/plain": [
       "<keras.callbacks.History at 0x2509eaa5a00>"
      ]
     },
     "execution_count": 403,
     "metadata": {},
     "output_type": "execute_result"
    }
   ],
   "source": [
    "model.fit(X_train, y_train, epochs=25,batch_size=128)"
   ]
  },
  {
   "cell_type": "code",
   "execution_count": 404,
   "metadata": {},
   "outputs": [],
   "source": [
    "model.save('model.h5')"
   ]
  },
  {
   "cell_type": "code",
   "execution_count": 410,
   "metadata": {},
   "outputs": [],
   "source": [
    "import matplotlib.pyplot as plt"
   ]
  },
  {
   "cell_type": "code",
   "execution_count": 413,
   "metadata": {},
   "outputs": [
    {
     "name": "stderr",
     "output_type": "stream",
     "text": [
      "No handles with labels found to put in legend.\n"
     ]
    },
    {
     "data": {
      "text/plain": [
       "<matplotlib.legend.Legend at 0x250e7450c70>"
      ]
     },
     "execution_count": 413,
     "metadata": {},
     "output_type": "execute_result"
    },
    {
     "data": {
      "image/png": "[encoded data removed]",
      "text/plain": [
       "<Figure size 432x288 with 1 Axes>"
      ]
     },
     "metadata": {
      "needs_background": "light"
     },
     "output_type": "display_data"
    }
   ],
   "source": [
    "plt.plot(model.history.history['categorical_accuracy'])\n",
    "plt.xlabel('Epoch')\n",
    "plt.ylabel('Accuracy')\n",
    "plt.legend(loc='lower right')"
   ]
  },
  {
   "cell_type": "code",
   "execution_count": 415,
   "metadata": {},
   "outputs": [
    {
     "name": "stderr",
     "output_type": "stream",
     "text": [
      "No handles with labels found to put in legend.\n"
     ]
    },
    {
     "data": {
      "text/plain": [
       "<matplotlib.legend.Legend at 0x250e744b820>"
      ]
     },
     "execution_count": 415,
     "metadata": {},
     "output_type": "execute_result"
    },
    {
     "data": {
      "image/png": "[encoded data removed]",
      "text/plain": [
       "<Figure size 432x288 with 1 Axes>"
      ]
     },
     "metadata": {
      "needs_background": "light"
     },
     "output_type": "display_data"
    }
   ],
   "source": [
    "plt.plot(model.history.history['loss'], )\n",
    "plt.xlabel('Epoch')\n",
    "plt.ylabel('Loss')\n",
    "plt.legend(loc='lower right')"
   ]
  }
 ],
 "metadata": {
  "kernelspec": {
   "display_name": "Python 3.9.1 ('base')",
   "language": "python",
   "name": "python3"
  },
  "language_info": {
   "codemirror_mode": {
    "name": "ipython",
    "version": 3
   },
   "file_extension": ".py",
   "mimetype": "text/x-python",
   "name": "python",
   "nbconvert_exporter": "python",
   "pygments_lexer": "ipython3",
   "version": "3.9.1"
  },
  "orig_nbformat": 4,
  "vscode": {
   "interpreter": {
    "hash": "4e1c2798ee1b7b7a11e5efe976dd2a4013c9c70ae7e11798478a655b3b9d537b"
   }
  }
 },
 "nbformat": 4,
 "nbformat_minor": 2
}
